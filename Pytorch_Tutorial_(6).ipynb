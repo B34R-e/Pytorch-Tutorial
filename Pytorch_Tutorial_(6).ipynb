{
  "nbformat": 4,
  "nbformat_minor": 0,
  "metadata": {
    "colab": {
      "provenance": [],
      "authorship_tag": "ABX9TyM1zW3M7RMoW1VzirjuXDfZ",
      "include_colab_link": true
    },
    "kernelspec": {
      "name": "python3",
      "display_name": "Python 3"
    },
    "language_info": {
      "name": "python"
    }
  },
  "cells": [
    {
      "cell_type": "markdown",
      "metadata": {
        "id": "view-in-github",
        "colab_type": "text"
      },
      "source": [
        "<a href=\"https://colab.research.google.com/github/B34R-e/Pytorch-Tutorial/blob/main/Pytorch_Tutorial_(6).ipynb\" target=\"_parent\"><img src=\"https://colab.research.google.com/assets/colab-badge.svg\" alt=\"Open In Colab\"/></a>"
      ]
    },
    {
      "cell_type": "markdown",
      "source": [
        "### **Training Pipeline: Model, Loss, and Optimizer**"
      ],
      "metadata": {
        "id": "ah1r3r_aG5Z_"
      }
    },
    {
      "cell_type": "code",
      "source": [
        "# pipeline\n",
        "# 1) Design a model (input, output size, forward pass)\n",
        "# 2) Construct a loss function and optimizer\n",
        "# 3) Training loop\n",
        "# - forward pass: compute prediction\n",
        "# - backward pass: gradients\n",
        "# - update weights"
      ],
      "metadata": {
        "id": "Iwk8RIe4H6TL"
      },
      "execution_count": null,
      "outputs": []
    },
    {
      "cell_type": "code",
      "execution_count": 20,
      "metadata": {
        "colab": {
          "base_uri": "https://localhost:8080/"
        },
        "id": "98UfcvnAGqf4",
        "outputId": "623a5ad4-7d0a-4e88-cc11-ae6ef4ad6bbd"
      },
      "outputs": [
        {
          "output_type": "stream",
          "name": "stdout",
          "text": [
            "4 1\n",
            "Prediction before training: f(5) = -1.757\n",
            "epoch 1: w = 2.879, loss = 38.14228439\n",
            "epoch 11: w = 1.677, loss = 0.19800904\n",
            "epoch 21: w = 1.744, loss = 0.10096443\n",
            "epoch 31: w = 1.811, loss = 0.05497070\n",
            "epoch 41: w = 1.860, loss = 0.02993035\n",
            "epoch 51: w = 1.897, loss = 0.01629643\n",
            "epoch 61: w = 1.924, loss = 0.00887305\n",
            "epoch 71: w = 1.944, loss = 0.00483119\n",
            "epoch 81: w = 1.959, loss = 0.00263048\n",
            "epoch 91: w = 1.969, loss = 0.00143224\n",
            "Prediction after training: f(5) = 9.952\n"
          ]
        }
      ],
      "source": [
        "import torch\n",
        "import torch.nn as nn\n",
        "\n",
        "# f = w * x\n",
        "\n",
        "# f = 2 * x\n",
        "X = torch.tensor([[1], [2], [3], [4]], dtype=torch.float32)\n",
        "Y = torch.tensor([[2], [4], [6], [8]], dtype=torch.float32)\n",
        "\n",
        "X_test = torch.tensor([5], dtype=torch.float32)\n",
        "\n",
        "n_samples, n_features = X.shape\n",
        "print(n_samples, n_features)\n",
        "\n",
        "input_size = n_features\n",
        "output_size = n_features\n",
        "\n",
        "# model = nn.Linear(input_size, output_size)\n",
        "\n",
        "# custom model\n",
        "class LinearRegression(nn.Module):\n",
        "  def __init__(self, input_dim, output_dim):\n",
        "    super(LinearRegression, self).__init__()\n",
        "    # define layers\n",
        "    self.lin = nn.Linear(input_dim, output_dim)\n",
        "\n",
        "  def forward(self, x):\n",
        "    return self.lin(x)\n",
        "\n",
        "model = LinearRegression(input_size, output_size)\n",
        "\n",
        "print(f'Prediction before training: f(5) = {model(X_test).item():.3f}')\n",
        "\n",
        "# Training\n",
        "learning_rate = 0.1\n",
        "epochs = 100\n",
        "\n",
        "loss = nn.MSELoss()\n",
        "optimizer = torch.optim.SGD(model.parameters(), lr = learning_rate)\n",
        "\n",
        "for epoch in range(epochs):\n",
        "  # prediction = forward pass\n",
        "  y_pred = model(X)\n",
        "\n",
        "  # loss\n",
        "  l = loss(Y, y_pred)\n",
        "\n",
        "  # gradients = backward pass\n",
        "  l.backward()\n",
        "\n",
        "  # update weights\n",
        "  optimizer.step() # to do optimization step\n",
        "\n",
        "  # zero gradients\n",
        "  optimizer.zero_grad()\n",
        "\n",
        "  if epoch % 10 == 0:\n",
        "    [w, b] = model.parameters()\n",
        "    print(f'epoch {epoch+1}: w = {w[0][0].item():.3f}, loss = {float(l):.8f}')\n",
        "\n",
        "print(f'Prediction after training: f(5) = {model(X_test).item():.3f}')"
      ]
    },
    {
      "cell_type": "code",
      "source": [
        ""
      ],
      "metadata": {
        "id": "ENrJ0RXbJkyC"
      },
      "execution_count": null,
      "outputs": []
    }
  ]
}