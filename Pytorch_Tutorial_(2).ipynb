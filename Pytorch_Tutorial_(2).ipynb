{
  "nbformat": 4,
  "nbformat_minor": 0,
  "metadata": {
    "colab": {
      "provenance": [],
      "authorship_tag": "ABX9TyMCqdLXD0sGABJXw5shVyRv",
      "include_colab_link": true
    },
    "kernelspec": {
      "name": "python3",
      "display_name": "Python 3"
    },
    "language_info": {
      "name": "python"
    }
  },
  "cells": [
    {
      "cell_type": "markdown",
      "metadata": {
        "id": "view-in-github",
        "colab_type": "text"
      },
      "source": [
        "<a href=\"https://colab.research.google.com/github/B34R-e/Pytorch-Tutorial/blob/main/Pytorch_Tutorial_(2).ipynb\" target=\"_parent\"><img src=\"https://colab.research.google.com/assets/colab-badge.svg\" alt=\"Open In Colab\"/></a>"
      ]
    },
    {
      "cell_type": "code",
      "execution_count": 11,
      "metadata": {
        "colab": {
          "base_uri": "https://localhost:8080/"
        },
        "id": "xRqskBxjB-ag",
        "outputId": "9ad75714-c0d9-4d5d-9bff-c8f37124b7c8"
      },
      "outputs": [
        {
          "output_type": "stream",
          "name": "stdout",
          "text": [
            "tensor([-4.1490e-16,  4.5639e-41])\n"
          ]
        }
      ],
      "source": [
        "import torch\n",
        "\n",
        "# create 0 values tensor\n",
        "\n",
        "x = torch.empty(2)\n",
        "\n",
        "print(x)"
      ]
    },
    {
      "cell_type": "code",
      "source": [
        "# create random values tensor\n",
        "x = torch.rand(2, 2, 2)\n",
        "\n",
        "print(x)"
      ],
      "metadata": {
        "colab": {
          "base_uri": "https://localhost:8080/"
        },
        "id": "aAQaPFOzCPjG",
        "outputId": "184e4637-abba-47af-f2d8-a8b2c3abbcb8"
      },
      "execution_count": 12,
      "outputs": [
        {
          "output_type": "stream",
          "name": "stdout",
          "text": [
            "tensor([[[0.0690, 0.5937],\n",
            "         [0.3497, 0.0884]],\n",
            "\n",
            "        [[0.6096, 0.7850],\n",
            "         [0.6927, 0.1776]]])\n"
          ]
        }
      ]
    },
    {
      "cell_type": "code",
      "source": [
        "# check the data type of tensor\n",
        "\n",
        "print(x.dtype)"
      ],
      "metadata": {
        "colab": {
          "base_uri": "https://localhost:8080/"
        },
        "id": "7W4uZFCfDcJW",
        "outputId": "1df40255-9b09-4c9d-9cf5-d6f74a3ef7ef"
      },
      "execution_count": 13,
      "outputs": [
        {
          "output_type": "stream",
          "name": "stdout",
          "text": [
            "torch.float32\n"
          ]
        }
      ]
    },
    {
      "cell_type": "code",
      "source": [
        "# create 1 value tensor\n",
        "\n",
        "x = torch.ones(2, 2)\n",
        "\n",
        "print(x)"
      ],
      "metadata": {
        "colab": {
          "base_uri": "https://localhost:8080/"
        },
        "id": "htv9rhkADY4q",
        "outputId": "a1f714b4-d7d0-4a11-9275-d601b6c94e71"
      },
      "execution_count": 14,
      "outputs": [
        {
          "output_type": "stream",
          "name": "stdout",
          "text": [
            "tensor([[1., 1.],\n",
            "        [1., 1.]])\n"
          ]
        }
      ]
    },
    {
      "cell_type": "code",
      "source": [
        "# check the size of tensor\n",
        "\n",
        "x = torch.ones(2, 2, dtype = torch.float16)\n",
        "\n",
        "print(x.size())"
      ],
      "metadata": {
        "colab": {
          "base_uri": "https://localhost:8080/"
        },
        "id": "DEOxC0CwDg3P",
        "outputId": "877a4210-f147-4d14-d76d-d6009a380e0d"
      },
      "execution_count": 15,
      "outputs": [
        {
          "output_type": "stream",
          "name": "stdout",
          "text": [
            "torch.Size([2, 2])\n"
          ]
        }
      ]
    },
    {
      "cell_type": "code",
      "source": [
        "# create tensor from data\n",
        "\n",
        "x = torch.tensor([2.5, 0.1])\n",
        "\n",
        "print(x)"
      ],
      "metadata": {
        "colab": {
          "base_uri": "https://localhost:8080/"
        },
        "id": "3WwCeqEPDs-N",
        "outputId": "e09cf71d-aa78-48a4-86a1-760ca474ba84"
      },
      "execution_count": 16,
      "outputs": [
        {
          "output_type": "stream",
          "name": "stdout",
          "text": [
            "tensor([2.5000, 0.1000])\n"
          ]
        }
      ]
    },
    {
      "cell_type": "code",
      "source": [
        "# basic operations\n",
        "\n",
        "x = torch.rand(2, 2)\n",
        "y = torch.rand(2, 2)\n",
        "\n",
        "print(f'X tensor: {x}\\n')\n",
        "print(f'Y tensor: {y}\\n')\n",
        "\n",
        "# addition (element-wise)\n",
        "z = x + y\n",
        "z = torch.add(x, y)\n",
        "y.add_(x) # add the value of x to y\n",
        "x.add_(y) # add the value of y to x\n",
        "\n",
        "print(f'Addition: {z}\\n')"
      ],
      "metadata": {
        "colab": {
          "base_uri": "https://localhost:8080/"
        },
        "id": "auNdcXtkD6fU",
        "outputId": "777daa30-6d90-4d8d-bcb9-dff89bca044b"
      },
      "execution_count": 22,
      "outputs": [
        {
          "output_type": "stream",
          "name": "stdout",
          "text": [
            "X tensor: tensor([[0.2124, 0.8965],\n",
            "        [0.2333, 0.8369]])\n",
            "\n",
            "Y tensor: tensor([[0.9617, 0.0717],\n",
            "        [0.6518, 0.6181]])\n",
            "\n",
            "Addition: tensor([[1.1741, 0.9682],\n",
            "        [0.8851, 1.4550]])\n",
            "\n"
          ]
        }
      ]
    },
    {
      "cell_type": "code",
      "source": [
        "# Subtraction\n",
        "z = x - y\n",
        "z = torch.sub(x, y)\n",
        "\n",
        "print(f'Subtraction: {z}')"
      ],
      "metadata": {
        "colab": {
          "base_uri": "https://localhost:8080/"
        },
        "id": "mh35kWtFEGWk",
        "outputId": "860577be-6d1e-44cb-9900-ad50eaf97020"
      },
      "execution_count": 23,
      "outputs": [
        {
          "output_type": "stream",
          "name": "stdout",
          "text": [
            "Subtraction: tensor([[-0.7493,  0.8248],\n",
            "        [-0.4186,  0.2188]])\n"
          ]
        }
      ]
    },
    {
      "cell_type": "code",
      "source": [
        "# Multiplication\n",
        "z = x * y\n",
        "z = torch.mul(x, y)\n",
        "\n",
        "print(f'Multiplication: {z}')"
      ],
      "metadata": {
        "colab": {
          "base_uri": "https://localhost:8080/"
        },
        "id": "uO4jM0y4E-Oo",
        "outputId": "daa28f27-65f8-4b81-c620-95b1a20ac7c0"
      },
      "execution_count": 24,
      "outputs": [
        {
          "output_type": "stream",
          "name": "stdout",
          "text": [
            "Multiplication: tensor([[0.2043, 0.0643],\n",
            "        [0.1521, 0.5173]])\n"
          ]
        }
      ]
    },
    {
      "cell_type": "code",
      "source": [
        "# Division\n",
        "z = x / y\n",
        "z = torch.div(x, y)\n",
        "\n",
        "print(f'Division: {z}')"
      ],
      "metadata": {
        "colab": {
          "base_uri": "https://localhost:8080/"
        },
        "id": "CQpGk3hYFHp2",
        "outputId": "3cd49118-7b1e-482f-c37a-430a6c3802fa"
      },
      "execution_count": 25,
      "outputs": [
        {
          "output_type": "stream",
          "name": "stdout",
          "text": [
            "Division: tensor([[ 0.2209, 12.5073],\n",
            "        [ 0.3579,  1.3540]])\n"
          ]
        }
      ]
    },
    {
      "cell_type": "code",
      "source": [
        "# Index slicing\n",
        "x = torch.rand(5, 3)\n",
        "\n",
        "print(x)\n",
        "print(x[:, 0])\n",
        "print(x[1, 1].item()) # only can use when you have 1 element"
      ],
      "metadata": {
        "colab": {
          "base_uri": "https://localhost:8080/"
        },
        "id": "Z_doc4GsFPV0",
        "outputId": "a81e70d1-04b1-41e1-8740-3ef72d7328d9"
      },
      "execution_count": 28,
      "outputs": [
        {
          "output_type": "stream",
          "name": "stdout",
          "text": [
            "tensor([[0.0427, 0.9436, 0.2034],\n",
            "        [0.0762, 0.7273, 0.3519],\n",
            "        [0.4355, 0.3456, 0.4399],\n",
            "        [0.5344, 0.8043, 0.0257],\n",
            "        [0.9311, 0.9627, 0.4927]])\n",
            "tensor([0.0427, 0.0762, 0.4355, 0.5344, 0.9311])\n",
            "0.7273129820823669\n"
          ]
        }
      ]
    },
    {
      "cell_type": "code",
      "source": [
        "# Reshape a tensor\n",
        "x = torch.rand(4, 4)\n",
        "print(x)\n",
        "\n",
        "# y = x.view(16)\n",
        "y = x.view(-1, 8)\n",
        "print(y, '\\n')\n",
        "print(y.size())"
      ],
      "metadata": {
        "colab": {
          "base_uri": "https://localhost:8080/"
        },
        "id": "eDQEUPRDORq1",
        "outputId": "990263f8-5448-4de5-fb82-c474cd65a1a3"
      },
      "execution_count": 35,
      "outputs": [
        {
          "output_type": "stream",
          "name": "stdout",
          "text": [
            "tensor([[0.4988, 0.6767, 0.9340, 0.2338],\n",
            "        [0.2559, 0.0686, 0.3668, 0.6827],\n",
            "        [0.5193, 0.2459, 0.8827, 0.3413],\n",
            "        [0.7044, 0.8702, 0.8012, 0.9342]])\n",
            "tensor([[0.4988, 0.6767, 0.9340, 0.2338, 0.2559, 0.0686, 0.3668, 0.6827],\n",
            "        [0.5193, 0.2459, 0.8827, 0.3413, 0.7044, 0.8702, 0.8012, 0.9342]]) \n",
            "\n",
            "torch.Size([2, 8])\n"
          ]
        }
      ]
    },
    {
      "cell_type": "code",
      "source": [
        "# Torch to numpy (Share the allocation together)\n",
        "import numpy as np\n",
        "\n",
        "a = torch.ones(5)\n",
        "print(a)\n",
        "\n",
        "b = a.numpy()\n",
        "print(b)\n",
        "\n",
        "a.add_(1)\n",
        "print(a)\n",
        "print(b)"
      ],
      "metadata": {
        "colab": {
          "base_uri": "https://localhost:8080/"
        },
        "id": "_JuVJgepOrCX",
        "outputId": "eb88afaf-f2ed-4674-fe26-e61f092eb394"
      },
      "execution_count": 40,
      "outputs": [
        {
          "output_type": "stream",
          "name": "stdout",
          "text": [
            "tensor([1., 1., 1., 1., 1.])\n",
            "[1. 1. 1. 1. 1.]\n",
            "tensor([2., 2., 2., 2., 2.])\n",
            "[2. 2. 2. 2. 2.]\n"
          ]
        }
      ]
    },
    {
      "cell_type": "code",
      "source": [
        "# Numpy to torch (Share the allocation together)\n",
        "\n",
        "a = np.ones(5)\n",
        "print(a)\n",
        "\n",
        "b = torch.from_numpy(a)\n",
        "print(b)\n",
        "\n",
        "b.add_(1)\n",
        "print(a)\n",
        "print(b)"
      ],
      "metadata": {
        "colab": {
          "base_uri": "https://localhost:8080/"
        },
        "id": "uY6n228iPQo8",
        "outputId": "5c724bdb-4a48-41d1-97f8-f557ceed2b40"
      },
      "execution_count": 43,
      "outputs": [
        {
          "output_type": "stream",
          "name": "stdout",
          "text": [
            "[1. 1. 1. 1. 1.]\n",
            "tensor([1., 1., 1., 1., 1.], dtype=torch.float64)\n",
            "[2. 2. 2. 2. 2.]\n",
            "tensor([2., 2., 2., 2., 2.], dtype=torch.float64)\n"
          ]
        }
      ]
    },
    {
      "cell_type": "code",
      "source": [
        "# Check if your cuda tool kit is available\n",
        "if torch.cuda.is_available():\n",
        "  device = torch.device(\"cuda\")\n",
        "  x = torch.ones(5, device = device) # create a tensor and put it in GPU\n",
        "  y = torch.ones(5)\n",
        "  y = y.to(device) # just like the x\n",
        "  z = x + y\n",
        "  z = z.to('cpu') # turn back to the cpu to perform on numpy\n",
        "\n",
        "print(z)"
      ],
      "metadata": {
        "colab": {
          "base_uri": "https://localhost:8080/"
        },
        "id": "W3IHZRrCQK44",
        "outputId": "122d6a8f-96cd-4be1-ceb9-6ba826799078"
      },
      "execution_count": 45,
      "outputs": [
        {
          "output_type": "stream",
          "name": "stdout",
          "text": [
            "tensor([[ 0.2209, 12.5073],\n",
            "        [ 0.3579,  1.3540]])\n"
          ]
        }
      ]
    },
    {
      "cell_type": "code",
      "source": [
        "#\n",
        "x = torch.ones(5, requires_grad = True) # to compute gradient after\n",
        "print(x)"
      ],
      "metadata": {
        "id": "tHvaj7ZnRKoO"
      },
      "execution_count": null,
      "outputs": []
    }
  ]
}