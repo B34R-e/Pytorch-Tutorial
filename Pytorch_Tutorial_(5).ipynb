{
  "nbformat": 4,
  "nbformat_minor": 0,
  "metadata": {
    "colab": {
      "provenance": [],
      "authorship_tag": "ABX9TyPcBnU4tkrFPBVkbyw1cz7v",
      "include_colab_link": true
    },
    "kernelspec": {
      "name": "python3",
      "display_name": "Python 3"
    },
    "language_info": {
      "name": "python"
    }
  },
  "cells": [
    {
      "cell_type": "markdown",
      "metadata": {
        "id": "view-in-github",
        "colab_type": "text"
      },
      "source": [
        "<a href=\"https://colab.research.google.com/github/B34R-e/Pytorch-Tutorial/blob/main/Pytorch_Tutorial_(5).ipynb\" target=\"_parent\"><img src=\"https://colab.research.google.com/assets/colab-badge.svg\" alt=\"Open In Colab\"/></a>"
      ]
    },
    {
      "cell_type": "markdown",
      "source": [
        "## **Gradient Descent with Autograd and Backpropagation**"
      ],
      "metadata": {
        "id": "E6JWiQD3iPPw"
      }
    },
    {
      "cell_type": "markdown",
      "source": [
        "### ***Manually***"
      ],
      "metadata": {
        "id": "01ZLczBXjKag"
      }
    },
    {
      "cell_type": "code",
      "source": [
        "import numpy as np\n",
        "# f = w * x\n",
        "\n",
        "# f = 2 * x\n",
        "X = np.array([[1, 2, 3, 4]], dtype = np.float32)\n",
        "Y = np.array([[2, 4, 6, 8]], dtype = np.float32)\n",
        "\n",
        "w = 0.0"
      ],
      "metadata": {
        "id": "PgVkEBb5jxAR"
      },
      "execution_count": 23,
      "outputs": []
    },
    {
      "cell_type": "markdown",
      "source": [
        "#### Prediction"
      ],
      "metadata": {
        "id": "zMDHrxkujXXW"
      }
    },
    {
      "cell_type": "code",
      "source": [
        "def forward(x, w):\n",
        "  return w * x"
      ],
      "metadata": {
        "id": "hKHqgZNEjZSL"
      },
      "execution_count": 24,
      "outputs": []
    },
    {
      "cell_type": "markdown",
      "source": [
        "#### Loss Computation (MSE)"
      ],
      "metadata": {
        "id": "idAN15c-jbuy"
      }
    },
    {
      "cell_type": "code",
      "source": [
        "def loss(y, y_predicted):\n",
        "  return ((y_predicted - y)**2).mean()"
      ],
      "metadata": {
        "id": "TVdqrUPSjhdE"
      },
      "execution_count": 25,
      "outputs": []
    },
    {
      "cell_type": "markdown",
      "source": [
        "#### Gradients Computation\n",
        "1.   MSE = 1/N * (w * x - y)**2\n",
        "2.   dJ/dw = 1/N * 2x * (w * x - y)"
      ],
      "metadata": {
        "id": "KaXSxhkdjZfe"
      }
    },
    {
      "cell_type": "code",
      "source": [
        "def gradient(x, y, y_predicted):\n",
        "  return np.dot((2*x).T, y_predicted - y).mean()\n",
        "\n",
        "print(f'Prediction before training: f(5) = {forward(5, w):.3f}')"
      ],
      "metadata": {
        "colab": {
          "base_uri": "https://localhost:8080/"
        },
        "id": "KzRm26nFjh9O",
        "outputId": "acafa884-20f5-4d95-c169-1d051ddbf885"
      },
      "execution_count": 26,
      "outputs": [
        {
          "output_type": "stream",
          "name": "stdout",
          "text": [
            "Prediction before training: f(5) = 0.000\n"
          ]
        }
      ]
    },
    {
      "cell_type": "markdown",
      "source": [
        "#### Training\n"
      ],
      "metadata": {
        "id": "jCe1GKAvlmyw"
      }
    },
    {
      "cell_type": "code",
      "source": [
        "learning_rate = 0.01\n",
        "n_iters = 10\n",
        "\n",
        "for epoch in range(n_iters):\n",
        "  # prediction = forward pass\n",
        "  y_pred = forward(X, w)\n",
        "\n",
        "  # loss\n",
        "  l = loss(Y, y_pred)\n",
        "\n",
        "  # gradients\n",
        "  dw = gradient(X, Y, y_pred)\n",
        "\n",
        "  # update weights\n",
        "  w -= learning_rate * dw\n",
        "\n",
        "  if epoch % 1 == 0:\n",
        "    print(f'epoch {epoch + 1}: w = {w:.3f}, loss = {l:.8f}')\n",
        "\n",
        "print(f'Prediction after training: f(5) = {forward(5, w):.3f}')"
      ],
      "metadata": {
        "colab": {
          "base_uri": "https://localhost:8080/"
        },
        "id": "FmuNte4QltcI",
        "outputId": "c645da09-1dd0-4b6e-e662-34a12e4cc9f6"
      },
      "execution_count": 28,
      "outputs": [
        {
          "output_type": "stream",
          "name": "stdout",
          "text": [
            "epoch 1: w = 1.998, loss = 0.00004764\n",
            "epoch 2: w = 1.998, loss = 0.00003647\n",
            "epoch 3: w = 1.998, loss = 0.00002792\n",
            "epoch 4: w = 1.999, loss = 0.00002138\n",
            "epoch 5: w = 1.999, loss = 0.00001637\n",
            "epoch 6: w = 1.999, loss = 0.00001253\n",
            "epoch 7: w = 1.999, loss = 0.00000959\n",
            "epoch 8: w = 1.999, loss = 0.00000735\n",
            "epoch 9: w = 1.999, loss = 0.00000562\n",
            "epoch 10: w = 1.999, loss = 0.00000431\n",
            "Prediction after training: f(5) = 9.997\n"
          ]
        }
      ]
    },
    {
      "cell_type": "markdown",
      "source": [
        "### ***Automatically***"
      ],
      "metadata": {
        "id": "t25clq6DjPIL"
      }
    },
    {
      "cell_type": "code",
      "source": [
        "import torch\n",
        "# f = w * x\n",
        "\n",
        "# f = 2 * x\n",
        "X = torch.tensor([[1, 2, 3, 4]], dtype = torch.float32)\n",
        "Y = torch.tensor([[2, 4, 6, 8]], dtype = torch.float32)\n",
        "\n",
        "w = torch.tensor([0.0], dtype = torch.float32, requires_grad = True)"
      ],
      "metadata": {
        "id": "DaVhutWUrelF"
      },
      "execution_count": 2,
      "outputs": []
    },
    {
      "cell_type": "markdown",
      "source": [
        "#### Prediction"
      ],
      "metadata": {
        "id": "SV_A5iYqiMcT"
      }
    },
    {
      "cell_type": "code",
      "source": [
        "def foward(x, w):\n",
        "  return x * w"
      ],
      "metadata": {
        "id": "sl2kUUFdiO0n"
      },
      "execution_count": 3,
      "outputs": []
    },
    {
      "cell_type": "markdown",
      "source": [
        "#### Loss Computation"
      ],
      "metadata": {
        "id": "_K98PkoHijIz"
      }
    },
    {
      "cell_type": "code",
      "source": [
        "def loss(y, y_predicted):\n",
        "  return ((y_predicted - y)**2).mean()"
      ],
      "metadata": {
        "id": "1lLeVgpbiin_"
      },
      "execution_count": 4,
      "outputs": []
    },
    {
      "cell_type": "markdown",
      "source": [
        "#### Training"
      ],
      "metadata": {
        "id": "M1x55bKQtDKr"
      }
    },
    {
      "cell_type": "code",
      "source": [
        "learning_rate = 0.01\n",
        "n_iters = 10\n",
        "\n",
        "for epoch in range(n_iters):\n",
        "  # prediction = forward pass\n",
        "  y_pred = foward(X, w)\n",
        "\n",
        "  # loss\n",
        "  l = loss(Y, y_pred)\n",
        "\n",
        "  # gradients = backward pass\n",
        "  l.backward() # dL/dw\n",
        "\n",
        "  # update weights\n",
        "  with torch.no_grad():\n",
        "    w -= learning_rate * w.grad\n",
        "\n",
        "  # zero gradients\n",
        "  w.grad.zero_()\n",
        "\n",
        "  if epoch % 2  == 0:\n",
        "    print(f'epoch {epoch + 1}: w = {float(w):.3f}, loss = {float(l):8f}')\n",
        "\n",
        "print(f'Prediction after training: f(5) = {float(foward(5, w)):.3f}')"
      ],
      "metadata": {
        "colab": {
          "base_uri": "https://localhost:8080/"
        },
        "id": "cDZK_FFftGW0",
        "outputId": "ce0f984f-9998-41c7-f8ae-e2ff9e6b1ee5"
      },
      "execution_count": 22,
      "outputs": [
        {
          "output_type": "stream",
          "name": "stdout",
          "text": [
            "epoch 1: w = 2.000, loss = 0.000000\n",
            "epoch 3: w = 2.000, loss = 0.000000\n",
            "epoch 5: w = 2.000, loss = 0.000000\n",
            "epoch 7: w = 2.000, loss = 0.000000\n",
            "epoch 9: w = 2.000, loss = 0.000000\n",
            "Prediction after training: f(5) = 10.000\n"
          ]
        }
      ]
    }
  ]
}